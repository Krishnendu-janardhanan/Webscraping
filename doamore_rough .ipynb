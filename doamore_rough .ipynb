{
 "cells": [
  {
   "cell_type": "markdown",
   "id": "e7ffa85b",
   "metadata": {},
   "source": [
    "## Doamore - a diamond ring shop   webscraping."
   ]
  },
  {
   "cell_type": "markdown",
   "id": "ebd8bb57",
   "metadata": {},
   "source": [
    "Doamore is a diamond ring shop where you can buy diamond rings. My project is to scrape the details of the diamonds.I want to extract the following details."
   ]
  },
  {
   "cell_type": "markdown",
   "id": "857b5ceb",
   "metadata": {},
   "source": [
    "1. SHAPE     2. CARATS   3. COLOR   4. CLARITY   5. CUT  6. RATIO  7. TABLE  8. DEPTH  9. MEASUREMENTS 10. PRICE\t11. ID\n",
    "12. STOCK_NO\t13. IMAGE_URL\t14. VIDEO_URL\t15. DETAIL_URL\t16. CERTIFICATION\t17. CERTIFICATE NO\t18. FLOURESCENCE\t"
   ]
  },
  {
   "cell_type": "markdown",
   "id": "51fc1b1f",
   "metadata": {},
   "source": [
    "As a first step we are importing the required modules."
   ]
  },
  {
   "cell_type": "code",
   "execution_count": 1,
   "id": "4f278b55",
   "metadata": {},
   "outputs": [],
   "source": [
    "import requests\n",
    "import pandas as pd\n",
    "from bs4 import BeautifulSoup\n",
    "import json\n",
    "import re\n",
    "import time"
   ]
  },
  {
   "cell_type": "markdown",
   "id": "b03db40b",
   "metadata": {},
   "source": [
    "The next step in  web scraping is to deeply analysr the website and finding out  the details we want."
   ]
  },
  {
   "cell_type": "markdown",
   "id": "c3b60022",
   "metadata": {},
   "source": [
    "In our case, the base url is https://www.doamore.com/lab-created-diamonds."
   ]
  },
  {
   "cell_type": "markdown",
   "id": "1cb114ec",
   "metadata": {},
   "source": [
    "But our details are in this url : https://www.doamore.com/lab-created-diamonds/?meta={%22carat%22:{%22min%22:0.24,%22max%22:6.91},%22ratio%22:{%22min%22:1,%22max%22:3.15}}&taxonomies={}&page=2&thumbnails=false&cert_igi=false&cert_gcal=false&cert_gia=false"
   ]
  },
  {
   "cell_type": "markdown",
   "id": "5893bb78",
   "metadata": {},
   "source": [
    "There are 9525 diamond results which are listed over 477 pages. "
   ]
  },
  {
   "cell_type": "markdown",
   "id": "dd644686",
   "metadata": {},
   "source": [
    "So we have to iterate over the 477 pages. Only the page number changes  in the url when we go to the next page.\n"
   ]
  },
  {
   "cell_type": "markdown",
   "id": "7355fa5b",
   "metadata": {},
   "source": [
    "The python code below provide  iteration over the pages."
   ]
  },
  {
   "cell_type": "code",
   "execution_count": 3,
   "id": "1009e118",
   "metadata": {},
   "outputs": [
    {
     "name": "stdout",
     "output_type": "stream",
     "text": [
      "https://www.doamore.com/lab-created-diamonds/?meta={%22carat%22:{%22min%22:0.24,%22max%22:6.91},%22ratio%22:{%22min%22:1,%22max%22:3.15}}&taxonomies={}&page=1&thumbnails=false&cert_igi=false&cert_gcal=false&cert_gia=false\n",
      "https://www.doamore.com/lab-created-diamonds/?meta={%22carat%22:{%22min%22:0.24,%22max%22:6.91},%22ratio%22:{%22min%22:1,%22max%22:3.15}}&taxonomies={}&page=2&thumbnails=false&cert_igi=false&cert_gcal=false&cert_gia=false\n"
     ]
    }
   ],
   "source": [
    "base_url = \"https://www.doamore.com/lab-created-diamonds/?meta={%22carat%22:{%22min%22:0.24,%22max%22:6.91},%22ratio%22:{%22min%22:1,%22max%22:3.15}}&taxonomies={}&page=\"\n",
    "last_url = \"&thumbnails=false&cert_igi=false&cert_gcal=false&cert_gia=false\" \n",
    "for i in range(1,3):\n",
    "    topic_url =base_url+str(i)+last_url\n",
    "    print(topic_url)"
   ]
  },
  {
   "cell_type": "markdown",
   "id": "678b80b4",
   "metadata": {},
   "source": [
    "code above is an exapmle with only 2 pages. This will work through out the 477 pages. The range should be (1,478)"
   ]
  },
  {
   "cell_type": "code",
   "execution_count": 4,
   "id": "c9440368",
   "metadata": {},
   "outputs": [],
   "source": [
    "base_url = \"https://www.doamore.com/lab-created-diamonds/?meta={%22carat%22:{%22min%22:0.24,%22max%22:6.91},%22ratio%22:{%22min%22:1,%22max%22:3.15}}&taxonomies={}&page=\"\n",
    "last_url = \"&thumbnails=false&cert_igi=false&cert_gcal=false&cert_gia=false\" \n",
    "for i in range(1,478):\n",
    "    topic_url =base_url+str(i)+last_url"
   ]
  },
  {
   "cell_type": "markdown",
   "id": "2d18ae3b",
   "metadata": {},
   "source": [
    "We want to extract the html document from each of the page  in the loop. Let us examine with one page.Then we will apply to the loop"
   ]
  },
  {
   "cell_type": "markdown",
   "id": "9b450c88",
   "metadata": {},
   "source": [
    "The next step is to extract the html document"
   ]
  },
  {
   "cell_type": "code",
   "execution_count": 6,
   "id": "99442fff",
   "metadata": {},
   "outputs": [],
   "source": [
    "headers = {'User-Agent':\"Mozilla/5.0 (Windows NT 10.0; Win64; x64) AppleWebKit/537.36 (KHTML, like Gecko) Chrome/92.0.4515.159 Safari/537.36\"}\n",
    "response = requests.get(topic_url, headers = headers, timeout = 10)\n",
    "page_contents = response.text"
   ]
  },
  {
   "cell_type": "markdown",
   "id": "a59c8f27",
   "metadata": {},
   "source": [
    "then  parsing the deocument into a variable doc."
   ]
  },
  {
   "cell_type": "code",
   "execution_count": 7,
   "id": "61ee5a77",
   "metadata": {},
   "outputs": [],
   "source": [
    "doc = BeautifulSoup(page_contents,'html.parser')"
   ]
  },
  {
   "cell_type": "markdown",
   "id": "50197878",
   "metadata": {},
   "source": [
    "Our required data is in table format. So we are going to find the table in the doc."
   ]
  },
  {
   "cell_type": "code",
   "execution_count": 8,
   "id": "e73ce744",
   "metadata": {},
   "outputs": [],
   "source": [
    "table = doc.find_all('table')"
   ]
  },
  {
   "cell_type": "code",
   "execution_count": 12,
   "id": "75abfcdb",
   "metadata": {},
   "outputs": [
    {
     "data": {
      "text/plain": [
       "[<table>\n",
       " <thead>\n",
       " <tr>\n",
       " <td>Shape</td>\n",
       " <td>Carats</td>\n",
       " <td>Cut</td>\n",
       " <td>Color</td>\n",
       " <td>Clarity</td>\n",
       " <td class=\"extra\">L/W Ratio</td>\n",
       " <td class=\"extra\">Measurements</td>\n",
       " <td>Price</td>\n",
       " </tr>\n",
       " </thead>\n",
       " <tbody id=\"diamonds\">\n",
       " <tr class=\"diamond view\" data-id=\"3863642\">\n",
       " <td>Oval</td>\n",
       " <td>5.00</td>\n",
       " <td>Very Good</td>\n",
       " <td>D</td>\n",
       " <td>VVS2</td>\n",
       " <td class=\"extra\">1.38</td>\n",
       " <td class=\"extra\">13.44 x 9.73 x 5.91mm</td>\n",
       " <td>$66,020</td>\n",
       " </tr>\n",
       " <tr class=\"diamond view\" data-id=\"4113865\">\n",
       " <td>Oval</td>\n",
       " <td>5.03</td>\n",
       " <td>Excellent</td>\n",
       " <td>D</td>\n",
       " <td>VVS2</td>\n",
       " <td class=\"extra\">1.42</td>\n",
       " <td class=\"extra\">13.90 x 9.76 x 5.80mm</td>\n",
       " <td>$66,420</td>\n",
       " </tr>\n",
       " <tr class=\"diamond view\" data-id=\"3352795\">\n",
       " <td>Round</td>\n",
       " <td>5.76</td>\n",
       " <td>Signature Ideal</td>\n",
       " <td>F</td>\n",
       " <td>VS1</td>\n",
       " <td class=\"extra\">1.00</td>\n",
       " <td class=\"extra\">11.46 x 11.53 x 7.11mm</td>\n",
       " <td>$66,588</td>\n",
       " </tr>\n",
       " <tr class=\"diamond view\" data-id=\"3820592\">\n",
       " <td>Cushion</td>\n",
       " <td>5.33</td>\n",
       " <td>Very Good</td>\n",
       " <td>D</td>\n",
       " <td>VVS2</td>\n",
       " <td class=\"extra\">1.04</td>\n",
       " <td class=\"extra\">10.15 x 9.78 x 6.33mm</td>\n",
       " <td>$70,380</td>\n",
       " </tr>\n",
       " <tr class=\"diamond view\" data-id=\"4194888\">\n",
       " <td>Round</td>\n",
       " <td>6.03</td>\n",
       " <td>Signature Ideal</td>\n",
       " <td>E</td>\n",
       " <td>VVS2</td>\n",
       " <td class=\"extra\">1.00</td>\n",
       " <td class=\"extra\">11.57 x 11.57 x 7.23mm</td>\n",
       " <td>$80,320</td>\n",
       " </tr>\n",
       " </tbody>\n",
       " </table>]"
      ]
     },
     "execution_count": 12,
     "metadata": {},
     "output_type": "execute_result"
    }
   ],
   "source": [
    "table"
   ]
  },
  {
   "cell_type": "markdown",
   "id": "d0fb19bf",
   "metadata": {},
   "source": [
    "This is an ajax website.So inorder to extract the table details, we would get the json document using a post request."
   ]
  },
  {
   "cell_type": "code",
   "execution_count": 14,
   "id": "e380d1fe",
   "metadata": {},
   "outputs": [],
   "source": [
    "id_list = []\n",
    "for tag in table[0].find_all(class_='diamond view'):\n",
    "        id_single =tag.get('data-id')\n",
    "        \n",
    "        id_list.append(id_single)\n",
    "    \n",
    "        header2 = {\n",
    "            'User-Agent': 'Mozilla/5.0 (Macintosh; Intel Mac OS X 10.15; rv:91.0) Gecko/20100101 Firefox/91.0',\n",
    "            'Accept': 'application/json, text/javascript, */*; q=0.01',\n",
    "            'Accept-Language': 'en-CA,en-US;q=0.7,en;q=0.3',\n",
    "            'Content-Type': 'application/x-www-form-urlencoded; charset=UTF-8',\n",
    "            'X-Requested-With': 'XMLHttpRequest',\n",
    "            'Origin': 'https://www.doamore.com',\n",
    "            'Alt-Used': 'www.doamore.com',\n",
    "            'Connection': 'keep-alive',\n",
    "            'Referer': 'https://www.doamore.com/lab-created-diamonds/',\n",
    "            'Sec-Fetch-Dest': 'empty',\n",
    "            'Sec-Fetch-Mode': 'cors',\n",
    "            'Sec-Fetch-Site': 'same-origin',\n",
    "                        }\n",
    "        data2 = {'action': 'diamond_view','id':id_single}\n",
    "        \n",
    "        url = \"https://www.doamore.com/wp-admin/admin-ajax.php\"\n",
    "        response2 = requests.post(url, headers = header2, data = data2,timeout = 10)"
   ]
  },
  {
   "cell_type": "markdown",
   "id": "cb409e62",
   "metadata": {},
   "source": [
    "From the response object we are extracting the json data using beautifulsoup."
   ]
  },
  {
   "cell_type": "code",
   "execution_count": 15,
   "id": "4848d233",
   "metadata": {},
   "outputs": [],
   "source": [
    "        data_decoded = response2.text.encode().decode('utf-8-sig')\n",
    "        data_json = json.loads(data_decoded)\n",
    "        new_data = data_json['data']\n",
    "        soup = BeautifulSoup(data_json['data'],'html.parser')"
   ]
  },
  {
   "cell_type": "markdown",
   "id": "ee81bcc0",
   "metadata": {},
   "source": [
    "Getting  the details out of the json data"
   ]
  },
  {
   "cell_type": "code",
   "execution_count": null,
   "id": "f5a791d1",
   "metadata": {},
   "outputs": [],
   "source": []
  },
  {
   "cell_type": "code",
   "execution_count": 16,
   "id": "4719c5b2",
   "metadata": {},
   "outputs": [
    {
     "ename": "IndentationError",
     "evalue": "unexpected indent (<ipython-input-16-7a9c8c31c032>, line 2)",
     "output_type": "error",
     "traceback": [
      "\u001b[1;36m  File \u001b[1;32m\"<ipython-input-16-7a9c8c31c032>\"\u001b[1;36m, line \u001b[1;32m2\u001b[0m\n\u001b[1;33m    detail_url = soup.find_all('a')\u001b[0m\n\u001b[1;37m    ^\u001b[0m\n\u001b[1;31mIndentationError\u001b[0m\u001b[1;31m:\u001b[0m unexpected indent\n"
     ]
    }
   ],
   "source": [
    " #getting the stock no and details url\n",
    "        detail_url = soup.find_all('a')\n",
    "        details_url = detail_url[0]['href']\n",
    "        detail_url_list.append(details_url)\n",
    "        stock_no = details_url.split(\"/\")[-2:-1]\n",
    "        stock_no_list.append(stock_no[0])\n",
    "        \n",
    "        #get the certificate number and certificate url\n",
    "        url_cert = 'https://www.doamore.com/lab-created-diamonds/'+str(stock_no[0])\n",
    "        response = requests.get(url_cert, headers=headers,timeout= 10)\n",
    "        cert_soup = BeautifulSoup(response.text,'html.parser')\n",
    "\n",
    "        links = cert_soup.find_all('a',text=[\"IGI\",\"GCAL\",\"GSI\",\"GIA\",\"Diamond Foundry\",\"GIA-N\"])\n",
    "        cert_url = links[0]['href']\n",
    "        print(cert_url)\n",
    "        cert_url_list.append(cert_url)\n",
    "        cert_no = cert_url.split(\"=\")[-1:]\n",
    "        if(len(cert_no[0])==0):\n",
    "            certificate_number = nil\n",
    "        elif(len(cert_no[0])<=10):\n",
    "            certificate_number= \"LG\"+str(cert_no[0])\n",
    "        else:\n",
    "            cert_no = cert_url.split(\"/\")[-1:]\n",
    "            certificate_number = cert_no[0].split('.')[0] \n",
    "        \n",
    "        cert_num_list.append(certificate_number)\n",
    "        \n",
    "        #getting flourescence value\n",
    "        frsnce_data =cert_soup.find_all('div',{'class':'dimensions'})\n",
    "        flourescence = frsnce_data[0].find_all(\"li\")\n",
    "        flr_value =flourescence[4].text.split(':')[1]\n",
    "         flouresence_list.append(flr_value)\n",
    "        \n",
    "        #getting video url\n",
    "        video = cert_soup.find_all('iframe')\n",
    "        if (len(video)<=1):\n",
    "            video_url = nil\n",
    "        else:\n",
    "            video_url = video[1]['src']\n",
    "        video_url_list.append(video_url)\n",
    "        \n",
    "        \n",
    "        \n",
    "    \n",
    "        #getting image url\n",
    "        image_url = soup.find_all('img')\n",
    "        if (len(image_url)==0):\n",
    "            img_src = nil\n",
    "        else:\n",
    "            img_src = image_url[0]['src']\n",
    "        image_url_list.append(img_src)\n",
    "        \n",
    "\n",
    "        #getting the price details\n",
    "        details = soup.find_all('p')\n",
    "        price = details[0].text\n",
    "        price_list.append(price)\n",
    "        \n",
    "        body = []\n",
    "        rows.append(body)"
   ]
  },
  {
   "cell_type": "markdown",
   "id": "4a5fe4fe",
   "metadata": {},
   "source": []
  }
 ],
 "metadata": {
  "kernelspec": {
   "display_name": "Python 3",
   "language": "python",
   "name": "python3"
  },
  "language_info": {
   "codemirror_mode": {
    "name": "ipython",
    "version": 3
   },
   "file_extension": ".py",
   "mimetype": "text/x-python",
   "name": "python",
   "nbconvert_exporter": "python",
   "pygments_lexer": "ipython3",
   "version": "3.8.0"
  }
 },
 "nbformat": 4,
 "nbformat_minor": 5
}
